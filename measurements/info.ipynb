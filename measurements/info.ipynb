{
 "cells": [
  {
   "cell_type": "markdown",
   "metadata": {},
   "source": [
    "# Cálculos de Ganho PIBIC"
   ]
  },
  {
   "cell_type": "markdown",
   "metadata": {},
   "source": [
    "### Python reading file setup"
   ]
  },
  {
   "cell_type": "code",
   "execution_count": 424,
   "metadata": {},
   "outputs": [
    {
     "data": {
      "text/html": [
       "<div>\n",
       "<style scoped>\n",
       "    .dataframe tbody tr th:only-of-type {\n",
       "        vertical-align: middle;\n",
       "    }\n",
       "\n",
       "    .dataframe tbody tr th {\n",
       "        vertical-align: top;\n",
       "    }\n",
       "\n",
       "    .dataframe thead th {\n",
       "        text-align: right;\n",
       "    }\n",
       "</style>\n",
       "<table border=\"1\" class=\"dataframe\">\n",
       "  <thead>\n",
       "    <tr style=\"text-align: right;\">\n",
       "      <th></th>\n",
       "      <th>time</th>\n",
       "      <th>x</th>\n",
       "      <th>y</th>\n",
       "      <th>z</th>\n",
       "    </tr>\n",
       "  </thead>\n",
       "  <tbody>\n",
       "    <tr>\n",
       "      <th>0</th>\n",
       "      <td>0.000000</td>\n",
       "      <td>0.001585</td>\n",
       "      <td>0.001060</td>\n",
       "      <td>0.001670</td>\n",
       "    </tr>\n",
       "    <tr>\n",
       "      <th>1</th>\n",
       "      <td>0.000586</td>\n",
       "      <td>0.002384</td>\n",
       "      <td>0.002132</td>\n",
       "      <td>0.002123</td>\n",
       "    </tr>\n",
       "    <tr>\n",
       "      <th>2</th>\n",
       "      <td>0.001172</td>\n",
       "      <td>0.002092</td>\n",
       "      <td>0.002555</td>\n",
       "      <td>0.002099</td>\n",
       "    </tr>\n",
       "    <tr>\n",
       "      <th>3</th>\n",
       "      <td>0.001758</td>\n",
       "      <td>0.002629</td>\n",
       "      <td>0.003864</td>\n",
       "      <td>0.002976</td>\n",
       "    </tr>\n",
       "    <tr>\n",
       "      <th>4</th>\n",
       "      <td>0.002344</td>\n",
       "      <td>0.002211</td>\n",
       "      <td>0.004657</td>\n",
       "      <td>0.003649</td>\n",
       "    </tr>\n",
       "  </tbody>\n",
       "</table>\n",
       "</div>"
      ],
      "text/plain": [
       "       time         x         y         z\n",
       "0  0.000000  0.001585  0.001060  0.001670\n",
       "1  0.000586  0.002384  0.002132  0.002123\n",
       "2  0.001172  0.002092  0.002555  0.002099\n",
       "3  0.001758  0.002629  0.003864  0.002976\n",
       "4  0.002344  0.002211  0.004657  0.003649"
      ]
     },
     "execution_count": 424,
     "metadata": {},
     "output_type": "execute_result"
    }
   ],
   "source": [
    "import pandas as pd\n",
    "\n",
    "file_path = \"joined_file.tsv\"\n",
    "header = ['time', 'x', 'y', 'z']\n",
    "df = pd.read_csv(file_path, sep='\\t', decimal=',') # Valores em g\n",
    "df.columns = header\n",
    "df.head()"
   ]
  },
  {
   "cell_type": "code",
   "execution_count": 425,
   "metadata": {},
   "outputs": [
    {
     "data": {
      "text/html": [
       "<div>\n",
       "<style scoped>\n",
       "    .dataframe tbody tr th:only-of-type {\n",
       "        vertical-align: middle;\n",
       "    }\n",
       "\n",
       "    .dataframe tbody tr th {\n",
       "        vertical-align: top;\n",
       "    }\n",
       "\n",
       "    .dataframe thead th {\n",
       "        text-align: right;\n",
       "    }\n",
       "</style>\n",
       "<table border=\"1\" class=\"dataframe\">\n",
       "  <thead>\n",
       "    <tr style=\"text-align: right;\">\n",
       "      <th></th>\n",
       "      <th>time</th>\n",
       "      <th>x</th>\n",
       "      <th>y</th>\n",
       "      <th>z</th>\n",
       "    </tr>\n",
       "  </thead>\n",
       "  <tbody>\n",
       "    <tr>\n",
       "      <th>0</th>\n",
       "      <td>0.000000</td>\n",
       "      <td>0.1585</td>\n",
       "      <td>0.1060</td>\n",
       "      <td>0.1670</td>\n",
       "    </tr>\n",
       "    <tr>\n",
       "      <th>1</th>\n",
       "      <td>0.000586</td>\n",
       "      <td>0.2384</td>\n",
       "      <td>0.2132</td>\n",
       "      <td>0.2123</td>\n",
       "    </tr>\n",
       "    <tr>\n",
       "      <th>2</th>\n",
       "      <td>0.001172</td>\n",
       "      <td>0.2092</td>\n",
       "      <td>0.2555</td>\n",
       "      <td>0.2099</td>\n",
       "    </tr>\n",
       "    <tr>\n",
       "      <th>3</th>\n",
       "      <td>0.001758</td>\n",
       "      <td>0.2629</td>\n",
       "      <td>0.3864</td>\n",
       "      <td>0.2976</td>\n",
       "    </tr>\n",
       "    <tr>\n",
       "      <th>4</th>\n",
       "      <td>0.002344</td>\n",
       "      <td>0.2211</td>\n",
       "      <td>0.4657</td>\n",
       "      <td>0.3649</td>\n",
       "    </tr>\n",
       "  </tbody>\n",
       "</table>\n",
       "</div>"
      ],
      "text/plain": [
       "       time       x       y       z\n",
       "0  0.000000  0.1585  0.1060  0.1670\n",
       "1  0.000586  0.2384  0.2132  0.2123\n",
       "2  0.001172  0.2092  0.2555  0.2099\n",
       "3  0.001758  0.2629  0.3864  0.2976\n",
       "4  0.002344  0.2211  0.4657  0.3649"
      ]
     },
     "execution_count": 425,
     "metadata": {},
     "output_type": "execute_result"
    }
   ],
   "source": [
    "df[['x', 'y', 'z']] *= 100 # Transformando em mV\n",
    "df.head()"
   ]
  },
  {
   "cell_type": "markdown",
   "metadata": {},
   "source": [
    "### Attenuations"
   ]
  },
  {
   "cell_type": "code",
   "execution_count": 426,
   "metadata": {},
   "outputs": [],
   "source": [
    "from enum import Enum\n",
    "class Attenuation(Enum):\n",
    "    ATTENUATION_0DB = {'full-range': (0, 1100), 'linear-range': (100, 950)}\n",
    "    ATTENUATION_2_5DB = {'full-range': (0, 1500), 'linear-range': (100, 1250)}\n",
    "    ATTENUATION_6DB = {'full-range': (0, 2200), 'linear-range': (150, 1750)}\n",
    "    ATTENUATION_11DB = {'full-range': (0, 3300), 'linear-range': (150, 2450)}\n"
   ]
  },
  {
   "cell_type": "code",
   "execution_count": 476,
   "metadata": {},
   "outputs": [
    {
     "data": {
      "text/plain": [
       "{'full-range': (0, 3300), 'linear-range': (150, 2450)}"
      ]
     },
     "execution_count": 476,
     "metadata": {},
     "output_type": "execute_result"
    }
   ],
   "source": [
    "ATTENUATION = Attenuation.ATTENUATION_11DB.value\n",
    "ATTENUATION"
   ]
  },
  {
   "cell_type": "markdown",
   "metadata": {},
   "source": [
    "##  Cálculo Resolução"
   ]
  },
  {
   "cell_type": "code",
   "execution_count": 477,
   "metadata": {},
   "outputs": [
    {
     "data": {
      "text/plain": [
       "0.8056640625"
      ]
     },
     "execution_count": 477,
     "metadata": {},
     "output_type": "execute_result"
    }
   ],
   "source": [
    "MAX_VOLTAGE = ATTENUATION['full-range'][1]\n",
    "LINEAR_MAX = ATTENUATION['linear-range'][1]\n",
    "LINEAR_MIN = ATTENUATION['linear-range'][0]\n",
    "\n",
    "\n",
    "RESOLUCAO_ESP = MAX_VOLTAGE/4096 # Resolução de 12 bits\n",
    "LINEAR_RANGE = LINEAR_MAX - LINEAR_MIN # Região linear para 1.1V\n",
    "RESOLUCAO_ESP # Em mV"
   ]
  },
  {
   "cell_type": "markdown",
   "metadata": {},
   "source": [
    "## Cálculo do ganho"
   ]
  },
  {
   "cell_type": "code",
   "execution_count": 478,
   "metadata": {},
   "outputs": [
    {
     "data": {
      "text/plain": [
       "4229     0.0001\n",
       "6047     0.0001\n",
       "8458     0.0001\n",
       "13528    0.0001\n",
       "15372    0.0001\n",
       "          ...  \n",
       "19871    0.0005\n",
       "21582    0.0005\n",
       "27105    0.0005\n",
       "47527    0.0005\n",
       "52914    0.0005\n",
       "Name: x, Length: 100, dtype: float64"
      ]
     },
     "execution_count": 478,
     "metadata": {},
     "output_type": "execute_result"
    }
   ],
   "source": [
    "no_null_df = df[(df['x'] != 0) & (df['y'] != 0) & (df['z'] != 0)].abs() # Criando um DataFrame sem valores nulos para calcular a resolução mínima\n",
    "no_null_df['x'].nsmallest(100)"
   ]
  },
  {
   "cell_type": "code",
   "execution_count": 479,
   "metadata": {},
   "outputs": [
    {
     "data": {
      "text/plain": [
       "{'time': 0.0,\n",
       " 'x': 9.999999999999999e-05,\n",
       " 'y': 0.0006000000000000001,\n",
       " 'z': 0.0006000000000000001}"
      ]
     },
     "execution_count": 479,
     "metadata": {},
     "output_type": "execute_result"
    }
   ],
   "source": [
    "abs_min_values = no_null_df.min().to_dict()\n",
    "abs_min_values # Em mV"
   ]
  },
  {
   "cell_type": "code",
   "execution_count": 480,
   "metadata": {},
   "outputs": [
    {
     "data": {
      "text/plain": [
       "8056.640625000001"
      ]
     },
     "execution_count": 480,
     "metadata": {},
     "output_type": "execute_result"
    }
   ],
   "source": [
    "min_gain = RESOLUCAO_ESP/abs_min_values['x']\n",
    "min_gain # Ganho mínimo necessário"
   ]
  },
  {
   "cell_type": "code",
   "execution_count": 481,
   "metadata": {},
   "outputs": [
    {
     "data": {
      "text/plain": [
       "{'time': 686.432785, 'x': 102.6948, 'y': 112.714, 'z': 64.4559}"
      ]
     },
     "execution_count": 481,
     "metadata": {},
     "output_type": "execute_result"
    }
   ],
   "source": [
    "abs_max_values = no_null_df.max().to_dict()\n",
    "abs_max_values"
   ]
  },
  {
   "cell_type": "code",
   "execution_count": 482,
   "metadata": {},
   "outputs": [
    {
     "data": {
      "text/plain": [
       "{'time': 686.432785, 'x': 1388.615, 'y': 1405.6069, 'z': 1363.9586}"
      ]
     },
     "execution_count": 482,
     "metadata": {},
     "output_type": "execute_result"
    }
   ],
   "source": [
    "mean = (LINEAR_MAX + LINEAR_MIN)/2\n",
    "df_plus_mean = df.copy(deep=True)\n",
    "df_plus_mean[['x', 'y', 'z']] = df_plus_mean[['x', 'y', 'z']] + mean\n",
    "max_values = df_plus_mean.max().to_dict()\n",
    "max_values"
   ]
  },
  {
   "cell_type": "code",
   "execution_count": 483,
   "metadata": {},
   "outputs": [
    {
     "data": {
      "text/plain": [
       "1.743019332076415"
      ]
     },
     "execution_count": 483,
     "metadata": {},
     "output_type": "execute_result"
    }
   ],
   "source": [
    "max_value = max_values['y']\n",
    "max_gain = LINEAR_MAX/max_value\n",
    "max_gain"
   ]
  },
  {
   "cell_type": "code",
   "execution_count": 484,
   "metadata": {},
   "outputs": [
    {
     "data": {
      "text/plain": [
       "2450"
      ]
     },
     "execution_count": 484,
     "metadata": {},
     "output_type": "execute_result"
    }
   ],
   "source": [
    "int(max_value * max_gain)"
   ]
  },
  {
   "cell_type": "code",
   "execution_count": 485,
   "metadata": {},
   "outputs": [],
   "source": [
    "gain = max_gain\n",
    "#gain = 100"
   ]
  },
  {
   "cell_type": "code",
   "execution_count": 486,
   "metadata": {},
   "outputs": [
    {
     "data": {
      "text/plain": [
       "23.883527987466167"
      ]
     },
     "execution_count": 486,
     "metadata": {},
     "output_type": "execute_result"
    }
   ],
   "source": [
    "df_gt_resol = (df[['x', 'y', 'z']] * gain).abs() # DataFrame dos valores absolutos vezes o ganho máximo\n",
    "df_gt_resol = df_gt_resol[\n",
    "    (((df_gt_resol['x'] <= MAX_VOLTAGE) & (df_gt_resol['x'] >= RESOLUCAO_ESP)) | (df_gt_resol['x'] == 0)) & \n",
    "    (((df_gt_resol['y'] <= MAX_VOLTAGE) & (df_gt_resol['y'] >= RESOLUCAO_ESP)) | (df_gt_resol['y'] == 0)) & \n",
    "    (((df_gt_resol['z'] <= MAX_VOLTAGE) & (df_gt_resol['z'] >= RESOLUCAO_ESP)) | (df_gt_resol['z'] == 0))]\n",
    "data_loss_percentage = 100 - len(df_gt_resol)/len(df) * 100\n",
    "data_loss_percentage"
   ]
  },
  {
   "cell_type": "markdown",
   "metadata": {},
   "source": [
    "Para Atenuação de 0dB: \n",
    "    - Ganho máximo de 1.506485260468923\n",
    "    - Perda de 9.991365190143853% dos dados\n",
    "\n",
    "Para Atenuação de 2.5dB:\n",
    "    - Ganho máximo de 1.6013181538620784\n",
    "    - Perda de 12.635664435265639% dos dados\n",
    "\n",
    "Para Atenuação de 6dB:\n",
    "    - Ganho máximo de 1.657814097274279\n",
    "    - Perda de 17.43127759578408% dos dados\n",
    "\n",
    "Para Atenuação de 11dB:\n",
    "    - Ganho máximo de 1.743019332076415\n",
    "    - Perda de 23.883527987466167% dos dados"
   ]
  },
  {
   "cell_type": "code",
   "execution_count": 487,
   "metadata": {},
   "outputs": [
    {
     "data": {
      "text/plain": [
       "(1.0522895598917472, 52)"
      ]
     },
     "execution_count": 487,
     "metadata": {},
     "output_type": "execute_result"
    }
   ],
   "source": [
    "def best_performance(df: pd.DataFrame):\n",
    "    best_percentage = 110\n",
    "    best_gain = -1\n",
    "    for gain in range(1, 100):\n",
    "        df_gt_resol = (df[['x', 'y', 'z']] * gain).abs() # DataFrame dos valores absolutos vezes o ganho máximo\n",
    "        df_gt_resol = df_gt_resol[\n",
    "            (((df_gt_resol['x'] <= LINEAR_MAX) & (df_gt_resol['x'] >= RESOLUCAO_ESP)) | (df_gt_resol['x'] == 0)) & \n",
    "            (((df_gt_resol['y'] <= LINEAR_MAX) & (df_gt_resol['y'] >= RESOLUCAO_ESP)) | (df_gt_resol['y'] == 0)) & \n",
    "            (((df_gt_resol['z'] <= LINEAR_MAX) & (df_gt_resol['z'] >= RESOLUCAO_ESP)) | (df_gt_resol['z'] == 0))]\n",
    "        data_loss_percentage = 100 - len(df_gt_resol)/len(df) * 100\n",
    "        if data_loss_percentage < best_percentage:\n",
    "            best_percentage = data_loss_percentage\n",
    "            best_gain = gain\n",
    "    \n",
    "    return best_percentage, best_gain\n",
    "\n",
    "best_performance(df)"
   ]
  }
 ],
 "metadata": {
  "kernelspec": {
   "display_name": "Python 3",
   "language": "python",
   "name": "python3"
  },
  "language_info": {
   "codemirror_mode": {
    "name": "ipython",
    "version": 3
   },
   "file_extension": ".py",
   "mimetype": "text/x-python",
   "name": "python",
   "nbconvert_exporter": "python",
   "pygments_lexer": "ipython3",
   "version": "3.11.5"
  }
 },
 "nbformat": 4,
 "nbformat_minor": 2
}
